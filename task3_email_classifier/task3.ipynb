{
 "cells": [
  {
   "cell_type": "markdown",
   "id": "1df29eda",
   "metadata": {
    "id": "1df29eda"
   },
   "source": [
    "Step 0. Unzip enron1.zip into the current directory."
   ]
  },
  {
   "cell_type": "markdown",
   "id": "bf32cfce",
   "metadata": {
    "id": "bf32cfce"
   },
   "source": [
    "Step 1. Traverse the dataset and create a Pandas dataframe. This is already done for you and should run without any errors. You should recognize Pandas from task 1."
   ]
  },
  {
   "cell_type": "code",
   "execution_count": 122,
   "id": "20c5d195",
   "metadata": {
    "id": "20c5d195",
    "scrolled": true
   },
   "outputs": [
    {
     "name": "stdout",
     "output_type": "stream",
     "text": [
      "skipped 2248.2004-09-23.GP.spam.txt\n",
      "skipped 2526.2004-10-17.GP.spam.txt\n",
      "skipped 2698.2004-10-31.GP.spam.txt\n",
      "skipped 4566.2005-05-24.GP.spam.txt\n"
     ]
    }
   ],
   "source": [
    "import pandas as pd\n",
    "import os\n",
    "\n",
    "def read_spam():\n",
    "    category = 'spam'\n",
    "    directory = './enron1/spam'\n",
    "    return read_category(category, directory)\n",
    "\n",
    "def read_ham():\n",
    "    category = 'ham'\n",
    "    directory = './enron1/ham'\n",
    "    return read_category(category, directory)\n",
    "\n",
    "def read_category(category, directory):\n",
    "    emails = []\n",
    "    for filename in os.listdir(directory):\n",
    "        if not filename.endswith(\".txt\"):\n",
    "            continue\n",
    "        with open(os.path.join(directory, filename).replace(\"\\\\\",\"/\"), 'r') as fp:\n",
    "            try:\n",
    "                content = fp.read()\n",
    "                emails.append({'name': filename, 'content': content, 'category': category})\n",
    "            except:\n",
    "                print(f'skipped {filename}')\n",
    "    return emails\n",
    "\n",
    "ham = read_ham()\n",
    "spam = read_spam()\n",
    "\n",
    "df = pd.DataFrame.from_records(ham)\n",
    "df = pd.concat([df, pd.DataFrame.from_records(spam)])"
   ]
  },
  {
   "cell_type": "markdown",
   "id": "1a1c23fd",
   "metadata": {
    "id": "1a1c23fd"
   },
   "source": [
    "Step 2. Data cleaning is a critical part of machine learning. You and I can recognize that 'Hello' and 'hello' are the same word but a machine does not know this a priori. Therefore, we can 'help' the machine by conducting such normalization steps for it. Write a function `preprocessor` that takes in a string and replaces all non alphabet characters with a space and then lowercases the result."
   ]
  },
  {
   "cell_type": "code",
   "execution_count": 123,
   "id": "c447c901",
   "metadata": {
    "id": "c447c901"
   },
   "outputs": [],
   "source": [
    "import re\n",
    "\n",
    "def preprocessor(e):\n",
    "    e = re.sub('[^0-9a-zA-Z]+', ' ', e)\n",
    "    e = e.lower()\n",
    "    return e"
   ]
  },
  {
   "cell_type": "markdown",
   "id": "ba32521d",
   "metadata": {
    "id": "ba32521d"
   },
   "source": [
    "Step 3. We will now train the machine learning model. All the functions that you will need are imported for you. The instructions explain how the work and hint at which functions to use. You will likely need to refer to the scikit learn documentation to see how exactly to invoke the functions. It will be handy to keep that tab open."
   ]
  },
  {
   "cell_type": "code",
   "execution_count": 124,
   "id": "1442d377",
   "metadata": {
    "id": "1442d377"
   },
   "outputs": [
    {
     "name": "stdout",
     "output_type": "stream",
     "text": [
      "Accuracy Score:\n",
      "0.9767801857585139\n",
      "\n",
      "Confusion Matrix:\n",
      "[[902  14]\n",
      " [ 16 360]]\n",
      "\n",
      "Classification Report:\n",
      "              precision    recall  f1-score   support\n",
      "\n",
      "         ham       0.98      0.98      0.98       916\n",
      "        spam       0.96      0.96      0.96       376\n",
      "\n",
      "    accuracy                           0.98      1292\n",
      "   macro avg       0.97      0.97      0.97      1292\n",
      "weighted avg       0.98      0.98      0.98      1292\n",
      "\n",
      "\n"
     ]
    }
   ],
   "source": [
    "from sklearn.feature_extraction.text import CountVectorizer\n",
    "from sklearn.model_selection import train_test_split\n",
    "from sklearn.linear_model import LogisticRegression\n",
    "from sklearn.metrics import accuracy_score, confusion_matrix, classification_report\n",
    "\n",
    "# The CountVectorizer converts a text sample into a vector (think of it as an array of floats).\n",
    "# Each entry in the vector corresponds to a single word and the value is the number of times the word appeared.\n",
    "# Instantiate a CountVectorizer. Make sure to include the preprocessor you previously wrote in the constructor.\n",
    "# TODO\n",
    "vectorizer = CountVectorizer(preprocessor = preprocessor)\n",
    "\n",
    "# Use train_test_split to split the dataset into a train dataset and a test dataset.\n",
    "# The machine learning model learns from the train dataset.\n",
    "# Then the trained model is tested on the test dataset to see if it actually learned anything.\n",
    "# If it just memorized for example, then it would have a low accuracy on the test dataset and a high accuracy on the train dataset.\n",
    "# TODO\n",
    "X_train,X_test,y_train,y_test = train_test_split(df[\"content\"],df[\"category\"],test_size=0.25,random_state=16)\n",
    "\n",
    "\n",
    "# Use the vectorizer to transform the existing dataset into a form in which the model can learn from.\n",
    "# Remember that simple machine learning models operate on numbers, which the CountVectorizer conveniently helped us do.\n",
    "# TODO\n",
    "X_train_vectorized = vectorizer.fit_transform(X_train)\n",
    "\n",
    "# Use the LogisticRegression model to fit to the train dataset.\n",
    "# You may remember y = mx + b and Linear Regression from high school. Here, we fitted a scatter plot to a line.\n",
    "# Logistic Regression is another form of regression. \n",
    "# However, Logistic Regression helps us determine if a point should be in category A or B, which is a perfect fit.\n",
    "# TODO\n",
    "max_iter = 4000\n",
    "logreg = LogisticRegression(random_state=16)\n",
    "\n",
    "logreg.fit(X_train_vectorized, y_train)\n",
    "\n",
    "# Validate that the model has learned something.\n",
    "# Recall the model operates on vectors. First transform the test set using the vectorizer. \n",
    "# Then generate the predictions.\n",
    "# TODO\n",
    "X_test_vectorized = vectorizer.transform(X_test)\n",
    "y_pred = logreg.predict(X_test_vectorized)\n",
    "\n",
    "# We now want to see how we have done. We will be using three functions.\n",
    "# `accuracy_score` tells us how well we have done. \n",
    "# 90% means that every 9 of 10 entries from the test dataset were predicted accurately.\n",
    "# The `confusion_matrix` is a 2x2 matrix that gives us more insight.\n",
    "# The top left shows us how many ham emails were predicted to be ham (that's good!).\n",
    "# The bottom right shows us how many spam emails were predicted to be spam (that's good!).\n",
    "# The other two quadrants tell us the misclassifications.\n",
    "# Finally, the `classification_report` gives us detailed statistics which you may have seen in a statistics class.\n",
    "# TODO\n",
    "print(f'Accuracy Score:\\n{accuracy_score(y_test,y_pred)}\\n')\n",
    "print(f'Confusion Matrix:\\n{confusion_matrix(y_test,y_pred)}\\n')\n",
    "print(f'Classification Report:\\n{classification_report(y_test,y_pred)}\\n')\n"
   ]
  },
  {
   "cell_type": "markdown",
   "id": "9674d032",
   "metadata": {
    "id": "9674d032"
   },
   "source": [
    "Step 4."
   ]
  },
  {
   "cell_type": "code",
   "execution_count": 126,
   "id": "6b7d78c9",
   "metadata": {
    "id": "6b7d78c9"
   },
   "outputs": [
    {
     "name": "stdout",
     "output_type": "stream",
     "text": [
      "['00' '000' '0000' ... 'zzn' 'zzo' 'zzso']\n",
      "[-4.68295027e-01 -3.42574213e-01  2.77229540e-03 ...  1.15385485e-06\n",
      "  2.91140850e-02  6.89128426e-02]\n",
      "0.8178623246216564 hello\n",
      "0.809324512922452 no\n",
      "0.7854958754536314 prices\n",
      "0.7836569598536854 2004\n",
      "0.7836361296875939 http\n",
      "0.737134734759815 paliourg\n",
      "0.6997586882637121 only\n",
      "0.6505665211010557 remove\n",
      "0.6472712835508105 removed\n",
      "0.6468865944788262 more\n",
      "\n",
      "-1.7460442492272445 attached\n",
      "-1.4571913938892103 daren\n",
      "-1.4452458195997324 doc\n",
      "-1.3328364841001454 pictures\n",
      "-1.2908924459180386 enron\n",
      "-1.192037459555106 thanks\n",
      "-1.084344341218914 deal\n",
      "-1.08396847056904 xls\n",
      "-1.0492769157911352 neon\n",
      "-1.0278446100493175 meter\n"
     ]
    }
   ],
   "source": [
    "# Let's see which features (aka columns) the vectorizer created. \n",
    "# They should be all the words that were contained in the training dataset.\n",
    "# TODO\n",
    "all_features = vectorizer.get_feature_names_out()\n",
    "print(all_features)\n",
    "\n",
    "# You may be wondering what a machine learning model is tangibly. It is just a collection of numbers. \n",
    "# You can access these numbers known as \"coefficients\" from the coef_ property of the model\n",
    "# We will be looking at coef_[0] which represents the importance of each feature.\n",
    "# What does importance mean in this context?\n",
    "# Some words are more important than others for the model.\n",
    "# It's nothing personal, just that spam emails tend to contain some words more frequently.\n",
    "# This indicates to the model that having that word would make a new email more likely to be spam.\n",
    "# TODO\n",
    "feature_importance = logreg.coef_[0]\n",
    "print(feature_importance)\n",
    "\n",
    "# Iterate over importance and find the top 10 positive features with the largest magnitude.\n",
    "# Similarly, find the top 10 negative features with the largest magnitude.\n",
    "# Positive features correspond to spam. Negative features correspond to ham.\n",
    "# You will see that `http` is the strongest feature that corresponds to spam emails. \n",
    "# It makes sense. Spam emails often want you to click on a link.\n",
    "# TODO\n",
    "feature_importance_list = list(enumerate(feature_importance))\n",
    "def myFunc(e):\n",
    "  return e[1]\n",
    "feature_importance_list.sort(key =  myFunc, reverse = True)\n",
    "for i,j in feature_importance_list[:10]:\n",
    "    print(j, all_features[i])\n",
    "print()\n",
    "feature_importance_list.sort(key =  myFunc, reverse = False)\n",
    "for i,j in feature_importance_list[:10]:\n",
    "    print(j, all_features[i])\n",
    "\n"
   ]
  },
  {
   "cell_type": "markdown",
   "id": "d267e7ad",
   "metadata": {
    "id": "d267e7ad"
   },
   "source": [
    "Submission\n",
    "1. Upload the jupyter notebook to Forage."
   ]
  },
  {
   "cell_type": "markdown",
   "id": "LI4u_ZUGToDQ",
   "metadata": {
    "id": "LI4u_ZUGToDQ"
   },
   "source": [
    "All Done!"
   ]
  }
 ],
 "metadata": {
  "colab": {
   "collapsed_sections": [],
   "name": "task3.ipynb",
   "provenance": []
  },
  "kernelspec": {
   "display_name": "Python 3 (ipykernel)",
   "language": "python",
   "name": "python3"
  },
  "language_info": {
   "codemirror_mode": {
    "name": "ipython",
    "version": 3
   },
   "file_extension": ".py",
   "mimetype": "text/x-python",
   "name": "python",
   "nbconvert_exporter": "python",
   "pygments_lexer": "ipython3",
   "version": "3.9.19"
  }
 },
 "nbformat": 4,
 "nbformat_minor": 5
}
